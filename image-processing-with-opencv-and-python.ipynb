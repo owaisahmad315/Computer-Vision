{
 "cells": [
  {
   "cell_type": "code",
   "execution_count": 1,
   "id": "fbf61bed",
   "metadata": {
    "_cell_guid": "b1076dfc-b9ad-4769-8c92-a6c4dae69d19",
    "_uuid": "8f2839f25d086af736a60e9eeb907d3b93b6e0e5",
    "execution": {
     "iopub.execute_input": "2024-03-21T11:47:00.171806Z",
     "iopub.status.busy": "2024-03-21T11:47:00.171306Z",
     "iopub.status.idle": "2024-03-21T11:47:01.024346Z",
     "shell.execute_reply": "2024-03-21T11:47:01.023726Z"
    },
    "papermill": {
     "duration": 0.858536,
     "end_time": "2024-03-21T11:47:01.026249",
     "exception": false,
     "start_time": "2024-03-21T11:47:00.167713",
     "status": "completed"
    },
    "tags": []
   },
   "outputs": [],
   "source": [
    "import pandas as pd\n",
    "import numpy as np\n",
    "from glob import glob\n",
    "\n",
    "import cv2\n",
    "import matplotlib.pylab as plt"
   ]
  },
  {
   "cell_type": "markdown",
   "id": "1751f81e",
   "metadata": {
    "papermill": {
     "duration": 0.001603,
     "end_time": "2024-03-21T11:47:01.030083",
     "exception": false,
     "start_time": "2024-03-21T11:47:01.028480",
     "status": "completed"
    },
    "tags": []
   },
   "source": [
    "# Reading in Images"
   ]
  },
  {
   "cell_type": "code",
   "execution_count": 2,
   "id": "203345ee",
   "metadata": {
    "execution": {
     "iopub.execute_input": "2024-03-21T11:47:01.034519Z",
     "iopub.status.busy": "2024-03-21T11:47:01.034191Z",
     "iopub.status.idle": "2024-03-21T11:47:01.446618Z",
     "shell.execute_reply": "2024-03-21T11:47:01.445911Z"
    },
    "papermill": {
     "duration": 0.41673,
     "end_time": "2024-03-21T11:47:01.448461",
     "exception": false,
     "start_time": "2024-03-21T11:47:01.031731",
     "status": "completed"
    },
    "tags": []
   },
   "outputs": [],
   "source": [
    "dog_files=glob('../input/cat-and-dog/training_set/training_set/dogs/*.jpg')\n",
    "cat_files=glob('../input/cat-and-dog/training_set/training_set/cats/*.jpg')"
   ]
  },
  {
   "cell_type": "code",
   "execution_count": 3,
   "id": "5a194c59",
   "metadata": {
    "execution": {
     "iopub.execute_input": "2024-03-21T11:47:01.454163Z",
     "iopub.status.busy": "2024-03-21T11:47:01.453711Z",
     "iopub.status.idle": "2024-03-21T11:47:01.487481Z",
     "shell.execute_reply": "2024-03-21T11:47:01.486688Z"
    },
    "papermill": {
     "duration": 0.038615,
     "end_time": "2024-03-21T11:47:01.489351",
     "exception": false,
     "start_time": "2024-03-21T11:47:01.450736",
     "status": "completed"
    },
    "tags": []
   },
   "outputs": [
    {
     "data": {
      "text/plain": [
       "((232, 350, 3), (232, 350, 3))"
      ]
     },
     "execution_count": 3,
     "metadata": {},
     "output_type": "execute_result"
    }
   ],
   "source": [
    "img_mpl = plt.imread(cat_files[20])\n",
    "img_cv2 = cv2.imread(cat_files[20])\n",
    "img_mpl.shape, img_cv2.shape"
   ]
  },
  {
   "cell_type": "code",
   "execution_count": 4,
   "id": "14868e67",
   "metadata": {
    "execution": {
     "iopub.execute_input": "2024-03-21T11:47:01.494086Z",
     "iopub.status.busy": "2024-03-21T11:47:01.493834Z",
     "iopub.status.idle": "2024-03-21T11:47:01.765200Z",
     "shell.execute_reply": "2024-03-21T11:47:01.764378Z"
    },
    "papermill": {
     "duration": 0.276336,
     "end_time": "2024-03-21T11:47:01.767611",
     "exception": false,
     "start_time": "2024-03-21T11:47:01.491275",
     "status": "completed"
    },
    "tags": []
   },
   "outputs": [
    {
     "data": {
      "image/png": "[encoded data removed]",
      "text/plain": [
       "<Figure size 640x480 with 1 Axes>"
      ]
     },
     "metadata": {},
     "output_type": "display_data"
    }
   ],
   "source": [
    "pd.Series(img_mpl.flatten()).plot(kind='hist',\n",
    "                                  bins=50,\n",
    "                                  title='Distribution of Pixel Values')\n",
    "plt.show()"
   ]
  }
 ],
 "metadata": {
  "kaggle": {
   "accelerator": "none",
   "dataSources": [
    {
     "datasetId": 4642860,
     "sourceId": 7904551,
     "sourceType": "datasetVersion"
    }
   ],
   "dockerImageVersionId": 30673,
   "isGpuEnabled": false,
   "isInternetEnabled": true,
   "language": "python",
   "sourceType": "notebook"
  },
  "kernelspec": {
   "display_name": "Python 3",
   "language": "python",
   "name": "python3"
  },
  "language_info": {
   "codemirror_mode": {
    "name": "ipython",
    "version": 3
   },
   "file_extension": ".py",
   "mimetype": "text/x-python",
   "name": "python",
   "nbconvert_exporter": "python",
   "pygments_lexer": "ipython3",
   "version": "3.10.13"
  },
  "papermill": {
   "default_parameters": {},
   "duration": 4.018736,
   "end_time": "2024-03-21T11:47:02.087826",
   "environment_variables": {},
   "exception": null,
   "input_path": "__notebook__.ipynb",
   "output_path": "__notebook__.ipynb",
   "parameters": {},
   "start_time": "2024-03-21T11:46:58.069090",
   "version": "2.5.0"
  }
 },
 "nbformat": 4,
 "nbformat_minor": 5
}
